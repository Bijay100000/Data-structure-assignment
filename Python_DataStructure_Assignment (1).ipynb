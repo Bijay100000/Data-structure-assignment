{
  "nbformat": 4,
  "nbformat_minor": 0,
  "metadata": {
    "colab": {
      "provenance": []
    },
    "kernelspec": {
      "name": "python3",
      "display_name": "Python 3"
    },
    "language_info": {
      "name": "python"
    }
  },
  "cells": [
    {
      "cell_type": "markdown",
      "source": [
        "#Theoretical Questions\n",
        "---"
      ],
      "metadata": {
        "id": "9bc6X8Ub-hNF"
      }
    },
    {
      "cell_type": "markdown",
      "source": [
        "1. What are data structures, and why are they important?\n",
        "\n",
        "Ans:Data structures in Python are fundamental ways of organizing and storing data to enable efficient access and manipulation.\n",
        "They are important because they help manage collections of data,\n",
        "perform operations like searching and sorting, and are crucial for writing optimized and readable code.\n"
      ],
      "metadata": {
        "id": "vbVNblVWVcta"
      }
    },
    {
      "cell_type": "markdown",
      "source": [
        "2. Explain the difference between mutable and immutable datatypes with examples.\n",
        "\n",
        "Ans: Mutable data types are those whose values can be changed after they are created, while immutable data types cannot be altered once they are created. Examples of mutable data types include lists and dictionaries, while examples of immutable data types include strings and tuples.\n",
        "\n"
      ],
      "metadata": {
        "id": "uqmodFJjWjzR"
      }
    },
    {
      "cell_type": "markdown",
      "source": [
        "Mutable Data Types:\n",
        "Definition: Mutable data types allow modifications to their values after they are created. Changes are made directly to the object itself, without creating a new one.\n",
        "Examples in Python: Lists, dictionaries, and sets are all mutable."
      ],
      "metadata": {
        "id": "1dc-ZLCJW8r0"
      }
    },
    {
      "cell_type": "code",
      "source": [
        "    #Illustrative Example\n",
        "my_list = [1, 2, 3]\n",
        "my_list[0] = 4  # Modifying the first element\n",
        "print(my_list)  # Output: [4, 2, 3]\n"
      ],
      "metadata": {
        "colab": {
          "base_uri": "https://localhost:8080/"
        },
        "id": "m3HtF21qXEdU",
        "outputId": "d8693a7e-5fbb-4d7f-ce81-c7b69dfa30fe"
      },
      "execution_count": null,
      "outputs": [
        {
          "output_type": "stream",
          "name": "stdout",
          "text": [
            "[4, 2, 3]\n"
          ]
        }
      ]
    },
    {
      "cell_type": "markdown",
      "source": [
        "Immutable Data Types:\n",
        "Definition: Immutable data types do not allow changes to their values once created. Any attempt to modify them results in creating a new object.\n",
        "Examples in Python: Strings, tuples, and numbers (integers, floats, etc.) are immutable."
      ],
      "metadata": {
        "id": "XsykyfDSXXIc"
      }
    },
    {
      "cell_type": "code",
      "source": [
        "my_name = \"Bijay\"\n",
        "my_name[0] = \"S\"  # This will raise an error because strings are immutable"
      ],
      "metadata": {
        "colab": {
          "base_uri": "https://localhost:8080/",
          "height": 159
        },
        "id": "XdW-i7zDXnZh",
        "outputId": "b34ac97a-effd-4b82-f88c-a01a54942055"
      },
      "execution_count": null,
      "outputs": [
        {
          "output_type": "error",
          "ename": "TypeError",
          "evalue": "'str' object does not support item assignment",
          "traceback": [
            "\u001b[0;31m---------------------------------------------------------------------------\u001b[0m",
            "\u001b[0;31mTypeError\u001b[0m                                 Traceback (most recent call last)",
            "\u001b[0;32m<ipython-input-1-660e54322aa3>\u001b[0m in \u001b[0;36m<cell line: 0>\u001b[0;34m()\u001b[0m\n\u001b[1;32m      1\u001b[0m \u001b[0mmy_name\u001b[0m \u001b[0;34m=\u001b[0m \u001b[0;34m\"Bijay\"\u001b[0m\u001b[0;34m\u001b[0m\u001b[0;34m\u001b[0m\u001b[0m\n\u001b[0;32m----> 2\u001b[0;31m \u001b[0mmy_name\u001b[0m\u001b[0;34m[\u001b[0m\u001b[0;36m0\u001b[0m\u001b[0;34m]\u001b[0m \u001b[0;34m=\u001b[0m \u001b[0;34m\"S\"\u001b[0m  \u001b[0;31m# This will through an error because strings are immutable\u001b[0m\u001b[0;34m\u001b[0m\u001b[0;34m\u001b[0m\u001b[0m\n\u001b[0m",
            "\u001b[0;31mTypeError\u001b[0m: 'str' object does not support item assignment"
          ]
        }
      ]
    },
    {
      "cell_type": "markdown",
      "source": [
        "3. What are the main differences between lists and tuples in Python?\n",
        "\n",
        "Ans:In Python, the main difference between lists and tuples is that lists are mutable, while tuples are immutable. This means that lists can be changed after creation, but tuples cannot.\n",
        "\n",
        "#Differences->\n",
        "\n",
        "(i). Mutability:\n",
        "\n",
        "Lists:\n",
        "Lists can be modified after they are created. You can add, remove, or change elements.\n",
        "\n",
        "Tuples:\n",
        "Tuples cannot be modified after they are created. Their elements cannot be changed, added, or removed.\n",
        "\n",
        "(ii). Syntax:\n",
        "\n",
        "Lists: Defined using square brackets: my_list = [1, 2, 3].\n",
        "\n",
        "Tuples: Defined using parentheses: my_tuple = (1, 2, 3).\n",
        "\n",
        "(iii). Memory Efficiency:\n",
        "\n",
        "Tuples: Tuples are typically more memory-efficient than lists.\n",
        "\n",
        "Lists: Lists require more memory due to their mutability and the need to track changes.\n",
        "\n",
        "(iv). Use Cases:\n",
        "\n",
        "Lists:\n",
        "Use lists when you need a dynamic collection of items that can be frequently modified.\n",
        "\n",
        "Tuples:\n",
        "Use tuples when you need to store a fixed collection of items that will not change during program execution. For example, you might use a tuple to represent a geographic coordinate (latitude, longitude).\n",
        "\n",
        "(v). Other Notable Differences:\n",
        "Iteration:\n",
        "Tuples can be iterated over directly, while lists require the use of a for loop.\n",
        "Nested Structures:\n",
        "Tuples can be nested within other tuples, while lists cannot be nested within other lists.\n",
        "Hashable:\n",
        "Tuples are hashable, meaning they can be used as keys in dictionaries, while lists are not."
      ],
      "metadata": {
        "id": "dtFJtSYDaNs8"
      }
    },
    {
      "cell_type": "markdown",
      "source": [],
      "metadata": {
        "id": "O0lsHAO-bR88"
      }
    },
    {
      "cell_type": "markdown",
      "source": [
        "4. Describe how dictionaries store data.\n",
        "\n",
        "Ans: Dictionaries are used to store data values in key:value pairs. A dictionary is a collection which is ordered, changeable and do not allow duplicates.\n"
      ],
      "metadata": {
        "id": "8EX20UqTWWAV"
      }
    },
    {
      "cell_type": "code",
      "source": [
        "#Examples:\n",
        "#empty dictionary->\n",
        "\n",
        "emp_dict ={}\n",
        "\n",
        "#dictionary with value\n",
        "\n",
        "dict = {\"d1:d2\", \"a1:b1\"}"
      ],
      "metadata": {
        "id": "GV8Xd0uSXvPg"
      },
      "execution_count": null,
      "outputs": []
    },
    {
      "cell_type": "code",
      "source": [
        "emp_dict"
      ],
      "metadata": {
        "colab": {
          "base_uri": "https://localhost:8080/"
        },
        "id": "oh4xLq-RYE8b",
        "outputId": "e73d70e1-36aa-48ad-c64c-cd18c00d1cb6"
      },
      "execution_count": null,
      "outputs": [
        {
          "output_type": "execute_result",
          "data": {
            "text/plain": [
              "{}"
            ]
          },
          "metadata": {},
          "execution_count": 7
        }
      ]
    },
    {
      "cell_type": "code",
      "source": [
        "dict"
      ],
      "metadata": {
        "colab": {
          "base_uri": "https://localhost:8080/"
        },
        "id": "b-soF8I7YkST",
        "outputId": "6d6dde5d-84d3-498c-d3a5-ca79005b1df8"
      },
      "execution_count": null,
      "outputs": [
        {
          "output_type": "execute_result",
          "data": {
            "text/plain": [
              "{'a1:b1', 'd1:d2'}"
            ]
          },
          "metadata": {},
          "execution_count": 8
        }
      ]
    },
    {
      "cell_type": "markdown",
      "source": [
        "5. Why might you use a set instead of a list in Python?\n",
        "\n",
        "Ans:Because sets cannot have multiple occurrences of the same element, it makes sets highly useful to efficiently remove duplicate values from a list or tuple and to perform common math operations like unions and intersections.\n",
        "\n"
      ],
      "metadata": {
        "id": "vBYDvx1NY3Fs"
      }
    },
    {
      "cell_type": "markdown",
      "source": [
        "6. What is a string in Python, and how is it different from a list?\n",
        "\n",
        "Ans:A string is a sequence of characters between single or double quotes. A list is a sequence of items, where each item could be anything an integer, a float, a string, etc."
      ],
      "metadata": {
        "id": "-sg45VIRaVpf"
      }
    },
    {
      "cell_type": "markdown",
      "source": [
        "7. How do tuples ensure data integrity in Python?\n",
        "\n",
        "Ans:Tuples are immutable to ensure that their contents remain constant throughout their lifecycle, which ensures data integrity and reliability. This immutability allows tuples to be used as keys in dictionaries and elements in sets, as they can be hashed."
      ],
      "metadata": {
        "id": "VkX7hWaZa4IJ"
      }
    },
    {
      "cell_type": "markdown",
      "source": [
        "8.What is a hash table, and how does it relate to dictionaries in Python?\n",
        "\n",
        "Ans:A hash table is a data structure that uses a hash function to map keys to values, allowing for efficient storage and retrieval of data.Dictionaries are essentially implementations of hash tables. This means that Python dictionaries leverage hashing to store and retrieve key-value pairs quickly.\n"
      ],
      "metadata": {
        "id": "HlhQh9enbWzR"
      }
    },
    {
      "cell_type": "markdown",
      "source": [
        "9. Can lists contain different data types in Python?\n",
        "\n",
        "Ans:Lists can contain heterogeneous data types and objects. For example, integers, strings,booleans,floats,complex numbers and even functions can be stored within the same list.\n"
      ],
      "metadata": {
        "id": "uVSalRescDbM"
      }
    },
    {
      "cell_type": "code",
      "source": [
        "#For Example:\n",
        "my_list = [1,3.5,False,\"abc\",(3+5j)]"
      ],
      "metadata": {
        "id": "IZsmNWBnch9V"
      },
      "execution_count": null,
      "outputs": []
    },
    {
      "cell_type": "code",
      "source": [
        "my_list"
      ],
      "metadata": {
        "colab": {
          "base_uri": "https://localhost:8080/"
        },
        "id": "knDHmmt5c-z_",
        "outputId": "28d934fa-0b77-4112-d437-903964154275"
      },
      "execution_count": null,
      "outputs": [
        {
          "output_type": "execute_result",
          "data": {
            "text/plain": [
              "[1, 3.5, False, 'abc', (3+5j)]"
            ]
          },
          "metadata": {},
          "execution_count": 16
        }
      ]
    },
    {
      "cell_type": "markdown",
      "source": [
        "10.Explain why strings are immutable in Python?\n",
        "\n",
        "Ans:Python strings are (Immutable) which means they cannot be changed after they are created.Since strings can't be changed, we construct a new strings to represent new values."
      ],
      "metadata": {
        "id": "EoRv0FOmeiLv"
      }
    },
    {
      "cell_type": "markdown",
      "source": [
        "11. What advantages do dictionaries offer over lists for certain tasks?\n",
        "\n",
        "Ans:The list allows duplicate items, while the dictionary does not allow any duplicate keys. A list can store any data type. In contrast, keys in the dictionary can be of any immutable data type, and values can be of any data type."
      ],
      "metadata": {
        "id": "GwHsm9PifKwG"
      }
    },
    {
      "cell_type": "markdown",
      "source": [
        "12. Describe a scenario where using a tuple would be preferable over a list.\n",
        "\n",
        "Ans:Tuple can be used to store confidential data like Phone Numbers,Address,Aadhar Number,etc.As Tuples are Immutable(Unchangeable) other user cannot edit or replace Primary Data.\n",
        "\n",
        "Whereas, List are Mutable(Changeable). Below is an example to illustrate the difference between both."
      ],
      "metadata": {
        "id": "8oSV8rzzgPfw"
      }
    },
    {
      "cell_type": "code",
      "source": [
        "#Tuples\n",
        "details = (\"phone number\",\"Aadhar Number\",\"Address\")"
      ],
      "metadata": {
        "id": "nycJ1lSfhQn-"
      },
      "execution_count": null,
      "outputs": []
    },
    {
      "cell_type": "code",
      "source": [
        "details"
      ],
      "metadata": {
        "colab": {
          "base_uri": "https://localhost:8080/"
        },
        "id": "yOBSvOl-huTd",
        "outputId": "23e56cb0-512b-45ca-8f67-e2e121cc6f8a"
      },
      "execution_count": null,
      "outputs": [
        {
          "output_type": "execute_result",
          "data": {
            "text/plain": [
              "('phone number', 'Aadhar Number', 'Address')"
            ]
          },
          "metadata": {},
          "execution_count": 18
        }
      ]
    },
    {
      "cell_type": "code",
      "source": [
        "details[1] =\"Pan Number\" #This will show an error as Tuples are Immutable and cannot be changed or replaced once created."
      ],
      "metadata": {
        "colab": {
          "base_uri": "https://localhost:8080/",
          "height": 139
        },
        "id": "LmbyZgbrhvUT",
        "outputId": "23f2cdf7-bc64-46d6-b643-f9e249e1a022"
      },
      "execution_count": null,
      "outputs": [
        {
          "output_type": "error",
          "ename": "TypeError",
          "evalue": "'tuple' object does not support item assignment",
          "traceback": [
            "\u001b[0;31m---------------------------------------------------------------------------\u001b[0m",
            "\u001b[0;31mTypeError\u001b[0m                                 Traceback (most recent call last)",
            "\u001b[0;32m<ipython-input-19-088fb8bc90d3>\u001b[0m in \u001b[0;36m<cell line: 0>\u001b[0;34m()\u001b[0m\n\u001b[0;32m----> 1\u001b[0;31m \u001b[0mdetails\u001b[0m\u001b[0;34m[\u001b[0m\u001b[0;36m1\u001b[0m\u001b[0;34m]\u001b[0m \u001b[0;34m=\u001b[0m\u001b[0;34m\"Pan Number\"\u001b[0m\u001b[0;34m\u001b[0m\u001b[0;34m\u001b[0m\u001b[0m\n\u001b[0m",
            "\u001b[0;31mTypeError\u001b[0m: 'tuple' object does not support item assignment"
          ]
        }
      ]
    },
    {
      "cell_type": "code",
      "source": [
        "#Lists\n",
        "my_list = [\"phone number\",\"Aadhar Number\",\"Address\"]"
      ],
      "metadata": {
        "id": "qIvEe547h7-n"
      },
      "execution_count": null,
      "outputs": []
    },
    {
      "cell_type": "code",
      "source": [
        "my_list"
      ],
      "metadata": {
        "colab": {
          "base_uri": "https://localhost:8080/"
        },
        "id": "GpW7oTbmitwn",
        "outputId": "71169008-0bd1-43b4-ad71-10d0bb30b3c0"
      },
      "execution_count": null,
      "outputs": [
        {
          "output_type": "execute_result",
          "data": {
            "text/plain": [
              "['phone number', 'Aadhar Number', 'Address']"
            ]
          },
          "metadata": {},
          "execution_count": 22
        }
      ]
    },
    {
      "cell_type": "code",
      "source": [
        "my_list[1] = (\"Pan Card\")"
      ],
      "metadata": {
        "id": "AWSEuX-Uiuod"
      },
      "execution_count": null,
      "outputs": []
    },
    {
      "cell_type": "code",
      "source": [
        "my_list #This will not show an error as Lists are Mutable and can be changed or replaced as many times as user wants."
      ],
      "metadata": {
        "colab": {
          "base_uri": "https://localhost:8080/"
        },
        "id": "9ue9ObWJi3IJ",
        "outputId": "d208a856-46bc-4670-ead8-346cd3267580"
      },
      "execution_count": null,
      "outputs": [
        {
          "output_type": "execute_result",
          "data": {
            "text/plain": [
              "['phone number', 'Pan Card', 'Address']"
            ]
          },
          "metadata": {},
          "execution_count": 25
        }
      ]
    },
    {
      "cell_type": "markdown",
      "source": [
        "13. How do sets handle duplicate values in Python?\n",
        "\n",
        "Ans:It's an unordered collection of unique elements, meaning it cannot contain any duplicate items. When you add elements to a set, Python automatically removes any duplicates. This makes it a perfect choice for scenarios where you need to store a collection of items while ensuring uniqueness.\n",
        "\n"
      ],
      "metadata": {
        "id": "0DGH4hZOjMLD"
      }
    },
    {
      "cell_type": "code",
      "source": [
        "#For Example:\n",
        "set={1,1,1,2,3,4} #Input"
      ],
      "metadata": {
        "id": "jgYcW7tMjyxd"
      },
      "execution_count": null,
      "outputs": []
    },
    {
      "cell_type": "code",
      "source": [
        "set #Output"
      ],
      "metadata": {
        "colab": {
          "base_uri": "https://localhost:8080/"
        },
        "id": "lAHIYhArj7VK",
        "outputId": "af61562d-3cb2-4a6b-f52b-4454a4e22adb"
      },
      "execution_count": null,
      "outputs": [
        {
          "output_type": "execute_result",
          "data": {
            "text/plain": [
              "{1, 2, 3, 4}"
            ]
          },
          "metadata": {},
          "execution_count": 27
        }
      ]
    },
    {
      "cell_type": "markdown",
      "source": [
        "14. How does the “in” keyword work differently for lists and dictionaries?\n",
        "\n",
        "Ans:In Lists (in) can be used to check both elements and indexation but in Dictionary (in) can only be used to check the keys."
      ],
      "metadata": {
        "id": "yplYKaNskV-i"
      }
    },
    {
      "cell_type": "code",
      "source": [
        "#For Example:\n",
        "#Lists\n",
        "\n",
        "my_list = [1, 2, 3, 4]\n",
        "\n",
        "print(2 in my_list)   # True"
      ],
      "metadata": {
        "colab": {
          "base_uri": "https://localhost:8080/"
        },
        "id": "4YnafcLhkg7I",
        "outputId": "77da8455-dd9d-4022-8ca6-eb52eab5651e"
      },
      "execution_count": null,
      "outputs": [
        {
          "output_type": "stream",
          "name": "stdout",
          "text": [
            "True\n"
          ]
        }
      ]
    },
    {
      "cell_type": "code",
      "source": [
        "print(5 in my_list)   # False\n"
      ],
      "metadata": {
        "colab": {
          "base_uri": "https://localhost:8080/"
        },
        "id": "wSzxLeuqkxBa",
        "outputId": "04570ba5-ed98-40ce-94d9-67b359f98f5b"
      },
      "execution_count": null,
      "outputs": [
        {
          "output_type": "stream",
          "name": "stdout",
          "text": [
            "False\n"
          ]
        }
      ]
    },
    {
      "cell_type": "code",
      "source": [
        "#Dictionaries:\n",
        "my_dict = {\"apple\": 1, \"banana\": 2, \"cherry\": 3}\n",
        "\n",
        "print(\"banana\" in my_dict)     # True (key exists)"
      ],
      "metadata": {
        "colab": {
          "base_uri": "https://localhost:8080/"
        },
        "id": "8sPj9vYOl8Cf",
        "outputId": "798fe780-35c3-47fc-a14e-8c5cb5adfadb"
      },
      "execution_count": null,
      "outputs": [
        {
          "output_type": "stream",
          "name": "stdout",
          "text": [
            "True\n"
          ]
        }
      ]
    },
    {
      "cell_type": "code",
      "source": [
        "print(2 in my_dict)            # False (2 is a value, not a key)"
      ],
      "metadata": {
        "colab": {
          "base_uri": "https://localhost:8080/"
        },
        "id": "x3s8XHXImS8H",
        "outputId": "a3833092-ca19-44c4-f3b5-9f1fd034014b"
      },
      "execution_count": null,
      "outputs": [
        {
          "output_type": "stream",
          "name": "stdout",
          "text": [
            "False\n"
          ]
        }
      ]
    },
    {
      "cell_type": "code",
      "source": [
        "print(2 in my_dict.values())   # 2 exists in dictionary so, output will be shown as True"
      ],
      "metadata": {
        "colab": {
          "base_uri": "https://localhost:8080/"
        },
        "id": "Vi5E2QIGmTly",
        "outputId": "ffc2bd6a-9a6d-4c76-ba08-a44ddc7fb2eb"
      },
      "execution_count": null,
      "outputs": [
        {
          "output_type": "stream",
          "name": "stdout",
          "text": [
            "True\n"
          ]
        }
      ]
    },
    {
      "cell_type": "markdown",
      "source": [
        "15. Can you modify the elements of a tuple? Explain why or why not?\n",
        "\n",
        "Ans: No,because Tuples are Immutable, which means once a tuple is created, it's contents cannot be changed no elements can be added,modified or removed.\n",
        "\n"
      ],
      "metadata": {
        "id": "PLK_-_eDngkS"
      }
    },
    {
      "cell_type": "code",
      "source": [
        "details = (\"phone number\",\"Aadhar Number\",\"Address\")"
      ],
      "metadata": {
        "id": "HiDT5bRtoAbS"
      },
      "execution_count": null,
      "outputs": []
    },
    {
      "cell_type": "code",
      "source": [
        "details[1] =\"Pan Number\" #This will raise an error as Tuples are Immutable and cannot be changed or replaced once created."
      ],
      "metadata": {
        "colab": {
          "base_uri": "https://localhost:8080/",
          "height": 139
        },
        "id": "fPU-O9xdpIoP",
        "outputId": "5e26ca6c-fdce-4d69-fcec-ad491420adaa"
      },
      "execution_count": null,
      "outputs": [
        {
          "output_type": "error",
          "ename": "TypeError",
          "evalue": "'tuple' object does not support item assignment",
          "traceback": [
            "\u001b[0;31m---------------------------------------------------------------------------\u001b[0m",
            "\u001b[0;31mTypeError\u001b[0m                                 Traceback (most recent call last)",
            "\u001b[0;32m<ipython-input-41-0946072a9931>\u001b[0m in \u001b[0;36m<cell line: 0>\u001b[0;34m()\u001b[0m\n\u001b[0;32m----> 1\u001b[0;31m \u001b[0mdetails\u001b[0m\u001b[0;34m[\u001b[0m\u001b[0;36m1\u001b[0m\u001b[0;34m]\u001b[0m \u001b[0;34m=\u001b[0m\u001b[0;34m\"Pan Number\"\u001b[0m \u001b[0;31m#This will show an error as Tuples are Immutable and cannot be changed or replaced once created.\u001b[0m\u001b[0;34m\u001b[0m\u001b[0;34m\u001b[0m\u001b[0m\n\u001b[0m",
            "\u001b[0;31mTypeError\u001b[0m: 'tuple' object does not support item assignment"
          ]
        }
      ]
    },
    {
      "cell_type": "markdown",
      "source": [
        "16. What is a nested dictionary, and give an example of its use case?\n",
        "\n",
        "Ans: A nested dictionary is a dictionary inside another dictionary. It allows you to structure more complex data like objects with details in a clear, organized way."
      ],
      "metadata": {
        "id": "ORwUJwZwpWkI"
      }
    },
    {
      "cell_type": "code",
      "source": [
        "#For Example:\n",
        "#Student Details:\n",
        "\n",
        "students = {\"Ajay\": {\"age\": 28, \"subject\": \"Pure Science\"},\n",
        "    \"Boby\": {\"age\": 21, \"subject\": \"Commerce\"},\n",
        "    \"Charu\": {\"age\": 20, \"subject\": \"Arts\"}}"
      ],
      "metadata": {
        "id": "uUZh6GJ1ptjR"
      },
      "execution_count": null,
      "outputs": []
    },
    {
      "cell_type": "code",
      "source": [
        "print(students[\"Ajay\"][\"subject\"])"
      ],
      "metadata": {
        "colab": {
          "base_uri": "https://localhost:8080/"
        },
        "id": "GAh4iIQjq6DU",
        "outputId": "fff6df3e-0c22-41e6-d7f6-81fd6bd2e4eb"
      },
      "execution_count": null,
      "outputs": [
        {
          "output_type": "stream",
          "name": "stdout",
          "text": [
            "Pure Science\n"
          ]
        }
      ]
    },
    {
      "cell_type": "markdown",
      "source": [
        "17.Describe the time complexity of accessing elements in a dictionary.\n",
        "\n",
        "Ans: The time complexity of searching for a value in a dictionary is usually O(1), which means that it takes a constant amount of time to search for a value in a dictionary, regardless of the size of the dictionary.\n"
      ],
      "metadata": {
        "id": "TrwUuyw2rNtK"
      }
    },
    {
      "cell_type": "markdown",
      "source": [
        "18. In what situations are lists preferred over dictionaries?\n",
        "\n",
        "Ans: Lists perform faster for ordered operations like sorting, while dictionaries perform faster for lookup operations.\n",
        "Lists can contain duplicate values but Dictionaries cannot.Slicing is possible for lists but slicing is not possible for dictionaries.Lists is used when data is dynamic or of different sets but dictionaries are used for large scale data lookup."
      ],
      "metadata": {
        "id": "RBrZCzprvo5Z"
      }
    },
    {
      "cell_type": "markdown",
      "source": [
        " 19. Why are dictionaries considered unordered, and how does that affect data retrieval\n",
        "\n",
        "Ans: In earlier versions of Python, dictionaries were considered unordered collections since it could not be assumed that items would be maintained in any specific order. This was especially the case with versions prior to Python 3.7, because its internal implementation did not uphold the order for the arrangement of keys.\n",
        "\n"
      ],
      "metadata": {
        "id": "HVr1U0T94v1T"
      }
    },
    {
      "cell_type": "code",
      "source": [
        "#For Example:\n",
        "dict = {\"India:Delhi\",\"Australia:Sydney,Europe:England\"} #input"
      ],
      "metadata": {
        "id": "iP2eS7Pg6P9k"
      },
      "execution_count": null,
      "outputs": []
    },
    {
      "cell_type": "code",
      "source": [
        "dict #output result"
      ],
      "metadata": {
        "colab": {
          "base_uri": "https://localhost:8080/"
        },
        "id": "RGJeFDAs6jUL",
        "outputId": "b2b309e9-0da8-4675-cf46-a61c7b6dad01"
      },
      "execution_count": null,
      "outputs": [
        {
          "output_type": "execute_result",
          "data": {
            "text/plain": [
              "{'Australia:Sydney,Europe:England', 'India:Delhi'}"
            ]
          },
          "metadata": {},
          "execution_count": 3
        }
      ]
    },
    {
      "cell_type": "markdown",
      "source": [
        "20. Explain the difference between a list and a dictionary in terms of data retrieval.\n",
        "\n",
        "Ans:The main difference between a list and a dictionary in terms of data retrieval, is how you access the stored data:\n",
        "\n",
        "List:\n",
        " >A list is an ordered collection of items.\n",
        " >Data is retrieved using an index.\n",
        "\n",
        "Dictionary:\n",
        " >A dictionary is an unordered collection of key-value pairs.\n",
        " >Data is retrieved using a key, not an index."
      ],
      "metadata": {
        "id": "er_NBcvu_SdZ"
      }
    },
    {
      "cell_type": "code",
      "source": [
        "#Example list\n",
        "my_list = [100,500,\"bijay\",\"abc\"]\n",
        "print(my_list[2]) # output: bijay"
      ],
      "metadata": {
        "id": "6qQf2fFhrtu7"
      },
      "execution_count": null,
      "outputs": []
    },
    {
      "cell_type": "code",
      "source": [
        "#Example Dictionary\n",
        "my_dict = {'fruit1': 'apple', 'fruit2': 'banana'}\n",
        "print(my_dict['fruit2'])  # Output: banana"
      ],
      "metadata": {
        "id": "f74gSzPLr9xD"
      },
      "execution_count": null,
      "outputs": []
    },
    {
      "cell_type": "markdown",
      "source": [
        "#Practical Questions\n",
        "---"
      ],
      "metadata": {
        "id": "XNKVZ22dhXH1"
      }
    },
    {
      "cell_type": "code",
      "source": [
        "#1.Write a code to create a string with your name and print it.\n",
        "name = \"Bijay\"\n",
        "print(name)"
      ],
      "metadata": {
        "colab": {
          "base_uri": "https://localhost:8080/"
        },
        "id": "NMZYYwhhhd8i",
        "outputId": "dbde08d7-0b21-4b10-8723-48243da3b325"
      },
      "execution_count": null,
      "outputs": [
        {
          "output_type": "stream",
          "name": "stdout",
          "text": [
            "Bijay\n"
          ]
        }
      ]
    },
    {
      "cell_type": "code",
      "source": [
        "#2.Write a code to find the length of the string \"Hello World\".\n",
        "str = \"Hello World\"\n",
        "len(str)"
      ],
      "metadata": {
        "colab": {
          "base_uri": "https://localhost:8080/"
        },
        "id": "8hpQHSmEiJtv",
        "outputId": "33d4204e-c049-45d9-ff6b-402d6e7247d6"
      },
      "execution_count": null,
      "outputs": [
        {
          "output_type": "execute_result",
          "data": {
            "text/plain": [
              "11"
            ]
          },
          "metadata": {},
          "execution_count": 2
        }
      ]
    },
    {
      "cell_type": "code",
      "source": [
        "#3.Write a code to slice the first 3 characters from the string \"Python Programming\".\n",
        "a = \"Python Programming\"\n",
        "a[0:3]"
      ],
      "metadata": {
        "colab": {
          "base_uri": "https://localhost:8080/",
          "height": 35
        },
        "id": "kg6UFYM_ibY4",
        "outputId": "859c38dd-d43a-4bb5-c62a-584a1acc2840"
      },
      "execution_count": null,
      "outputs": [
        {
          "output_type": "execute_result",
          "data": {
            "text/plain": [
              "'Pyt'"
            ],
            "application/vnd.google.colaboratory.intrinsic+json": {
              "type": "string"
            }
          },
          "metadata": {},
          "execution_count": 3
        }
      ]
    },
    {
      "cell_type": "code",
      "source": [
        "#4.Write a code to convert the string \"hello\" to uppercase.\n",
        "str = \"hello\"\n",
        "print(str.upper())"
      ],
      "metadata": {
        "colab": {
          "base_uri": "https://localhost:8080/"
        },
        "id": "4iITR4oyiud6",
        "outputId": "a5a65f82-b04b-4083-fbc6-86acf9c7dab0"
      },
      "execution_count": null,
      "outputs": [
        {
          "output_type": "stream",
          "name": "stdout",
          "text": [
            "HELLO\n"
          ]
        }
      ]
    },
    {
      "cell_type": "code",
      "source": [
        "#5.Write a code to replace the word \"apple\" with \"orange\" in the string \"I like apple\".\n",
        "fruit = \"I like apple\"\n",
        "print(fruit.replace(\"apple\", \"orange\"))"
      ],
      "metadata": {
        "colab": {
          "base_uri": "https://localhost:8080/"
        },
        "id": "uRiW_BUsjwUw",
        "outputId": "0c10bf5e-9cad-4b9b-fbc9-951578cacba2"
      },
      "execution_count": null,
      "outputs": [
        {
          "output_type": "stream",
          "name": "stdout",
          "text": [
            "I like orange\n"
          ]
        }
      ]
    },
    {
      "cell_type": "code",
      "source": [
        "#6.Write a code to create a list with numbers 1 to 5 and print it.\n",
        "my_list = [1,2,3,4,5]\n",
        "print(my_list)"
      ],
      "metadata": {
        "colab": {
          "base_uri": "https://localhost:8080/"
        },
        "id": "5TDyk_AOj61c",
        "outputId": "79c3cbb6-7f3c-4698-ce03-99a8eb9168c9"
      },
      "execution_count": null,
      "outputs": [
        {
          "output_type": "stream",
          "name": "stdout",
          "text": [
            "[1, 2, 3, 4, 5]\n"
          ]
        }
      ]
    },
    {
      "cell_type": "code",
      "source": [
        "#7.Write a code to append the number 10 to the list [1, 2, 3, 4].\n",
        "my_list1 = [1,2,3,4]\n",
        "my_list1.append(10)\n",
        "print(my_list1)"
      ],
      "metadata": {
        "colab": {
          "base_uri": "https://localhost:8080/"
        },
        "id": "TM3rv3nAk40B",
        "outputId": "1047127a-83d6-4389-ab76-9dd5d564132e"
      },
      "execution_count": null,
      "outputs": [
        {
          "output_type": "stream",
          "name": "stdout",
          "text": [
            "[1, 2, 3, 4, 10]\n"
          ]
        }
      ]
    },
    {
      "cell_type": "code",
      "source": [
        "#8.Write a code to remove the number 3 from the list [1, 2, 3, 4, 5].\n",
        "my_list = [1,2,3,4,5]\n",
        "print(my_list)"
      ],
      "metadata": {
        "colab": {
          "base_uri": "https://localhost:8080/"
        },
        "id": "gE0y-is7lhJN",
        "outputId": "f342f779-1bbf-4693-c820-cacdb085dfd2"
      },
      "execution_count": null,
      "outputs": [
        {
          "output_type": "stream",
          "name": "stdout",
          "text": [
            "[1, 2, 3, 4, 5]\n"
          ]
        }
      ]
    },
    {
      "cell_type": "code",
      "source": [
        "my_list.remove(3)"
      ],
      "metadata": {
        "id": "iYLs7HJ_mbEy"
      },
      "execution_count": null,
      "outputs": []
    },
    {
      "cell_type": "code",
      "source": [
        "print(my_list)"
      ],
      "metadata": {
        "colab": {
          "base_uri": "https://localhost:8080/"
        },
        "id": "FvU6CMSvmhQG",
        "outputId": "8fc1c35b-c15d-454c-e16b-2fe9f72f18a3"
      },
      "execution_count": null,
      "outputs": [
        {
          "output_type": "stream",
          "name": "stdout",
          "text": [
            "[1, 2, 4, 5]\n"
          ]
        }
      ]
    },
    {
      "cell_type": "code",
      "source": [
        "#another way to remove the element\n",
        "my_list = [1,2,3,4,5]\n",
        "print(my_list)"
      ],
      "metadata": {
        "colab": {
          "base_uri": "https://localhost:8080/"
        },
        "id": "JVQki1zHmsjP",
        "outputId": "f3c4e993-734a-49e2-e1d7-53de4d136aa4"
      },
      "execution_count": null,
      "outputs": [
        {
          "output_type": "stream",
          "name": "stdout",
          "text": [
            "[1, 2, 3, 4, 5]\n"
          ]
        }
      ]
    },
    {
      "cell_type": "code",
      "source": [
        "my_list.pop(2)"
      ],
      "metadata": {
        "colab": {
          "base_uri": "https://localhost:8080/"
        },
        "id": "Zrjwn0n5m1_U",
        "outputId": "37d41eb8-0e92-4f22-8a0a-c79c2bd0e339"
      },
      "execution_count": null,
      "outputs": [
        {
          "output_type": "execute_result",
          "data": {
            "text/plain": [
              "3"
            ]
          },
          "metadata": {},
          "execution_count": 31
        }
      ]
    },
    {
      "cell_type": "code",
      "source": [
        "print(my_list)"
      ],
      "metadata": {
        "colab": {
          "base_uri": "https://localhost:8080/"
        },
        "id": "xqhht7Wbm7Dn",
        "outputId": "974bf1cd-b289-49e9-8bcd-feca2a4c501e"
      },
      "execution_count": null,
      "outputs": [
        {
          "output_type": "stream",
          "name": "stdout",
          "text": [
            "[1, 2, 4, 5]\n"
          ]
        }
      ]
    },
    {
      "cell_type": "code",
      "source": [
        "#9.Write a code to access the second element in the list ['a', 'b', 'c', 'd'].\n",
        "my_list = ['a', 'b', 'c', 'd']\n",
        "print(my_list)"
      ],
      "metadata": {
        "colab": {
          "base_uri": "https://localhost:8080/"
        },
        "id": "wkM5VXqXnC_8",
        "outputId": "3e5c909a-6a24-4ce1-cb82-31050154d37f"
      },
      "execution_count": 1,
      "outputs": [
        {
          "output_type": "stream",
          "name": "stdout",
          "text": [
            "['a', 'b', 'c', 'd']\n"
          ]
        }
      ]
    },
    {
      "cell_type": "code",
      "source": [
        "my_list[2]"
      ],
      "metadata": {
        "colab": {
          "base_uri": "https://localhost:8080/",
          "height": 35
        },
        "id": "tM2tEsecnTBF",
        "outputId": "4dcbaf7e-1f85-43d6-b67d-828108ffa52a"
      },
      "execution_count": 2,
      "outputs": [
        {
          "output_type": "execute_result",
          "data": {
            "text/plain": [
              "'c'"
            ],
            "application/vnd.google.colaboratory.intrinsic+json": {
              "type": "string"
            }
          },
          "metadata": {},
          "execution_count": 2
        }
      ]
    },
    {
      "cell_type": "code",
      "source": [
        "#10.Write a code to reverse the list[10,20,30,40,50].\n",
        "my_list = [10,20,30,40,50]\n",
        "my_list.reverse()\n",
        "print(my_list)\n"
      ],
      "metadata": {
        "colab": {
          "base_uri": "https://localhost:8080/"
        },
        "id": "hjJ2jhpVna--",
        "outputId": "2e9e1847-fc5f-4594-f292-508f534867aa"
      },
      "execution_count": null,
      "outputs": [
        {
          "output_type": "stream",
          "name": "stdout",
          "text": [
            "[50, 40, 30, 20, 10]\n"
          ]
        }
      ]
    },
    {
      "cell_type": "code",
      "source": [
        "#11.Write a code to create a tuple with the elements 100, 200, 300 and print it.\n",
        "t1 = (100, 200, 300)\n",
        "print(t1)"
      ],
      "metadata": {
        "id": "vbNb0Iwmn9Ks",
        "outputId": "f2df3e8c-3304-4821-adcb-12c432ac0db0",
        "colab": {
          "base_uri": "https://localhost:8080/"
        }
      },
      "execution_count": null,
      "outputs": [
        {
          "output_type": "stream",
          "name": "stdout",
          "text": [
            "(100, 200, 300)\n"
          ]
        }
      ]
    },
    {
      "cell_type": "code",
      "source": [
        "#12.Write a code to access the second-to-last element of the tuple ('red', 'green', 'blue', 'yellow')\n",
        "colors = ('red', 'green', 'blue', 'yellow')\n",
        "second_to_last = colors[-2]\n",
        "print(\"Second-to-last element:\", second_to_last)\n",
        "\n"
      ],
      "metadata": {
        "id": "zejYkRYU18PI",
        "outputId": "72a9be91-8ae8-41bd-b2e4-b22950e95fdd",
        "colab": {
          "base_uri": "https://localhost:8080/"
        }
      },
      "execution_count": 4,
      "outputs": [
        {
          "output_type": "stream",
          "name": "stdout",
          "text": [
            "Second-to-last element: blue\n"
          ]
        }
      ]
    },
    {
      "cell_type": "code",
      "source": [
        "#13.Write a code to find the minimum number in the tuple (10, 20, 5, 15).\n",
        "\n",
        "tup_1 = (10, 20, 5, 15)\n",
        "minimum = min(tup_1)\n",
        "print(minimum)"
      ],
      "metadata": {
        "id": "60f4YB7N28F7",
        "outputId": "1fb24533-c9e5-4751-de0a-0270b1a509b6",
        "colab": {
          "base_uri": "https://localhost:8080/"
        }
      },
      "execution_count": null,
      "outputs": [
        {
          "output_type": "stream",
          "name": "stdout",
          "text": [
            "5\n"
          ]
        }
      ]
    },
    {
      "cell_type": "code",
      "source": [
        "#14. Write a code to find the index of the element \"cat\" in the tuple ('dog', 'cat', 'rabbit').\n",
        "\n",
        "t1 = ('dog', 'cat', 'rabbit')\n",
        "print(t1.index(\"cat\"))"
      ],
      "metadata": {
        "id": "Ut91-4Xg4EoY",
        "outputId": "1992551e-4636-400d-dc7e-2f81ab77e9e0",
        "colab": {
          "base_uri": "https://localhost:8080/"
        }
      },
      "execution_count": null,
      "outputs": [
        {
          "output_type": "stream",
          "name": "stdout",
          "text": [
            "1\n"
          ]
        }
      ]
    },
    {
      "cell_type": "code",
      "source": [
        "#15. Write a code to create a tuple containing three different fruits and check if \"kiwi\" is in it.\n",
        "\n",
        "fruits_basket = (\"mango\", \"banana\", \"kiwi\", \"apple\", \"guava\")\n",
        "if \"kiwi\" in (fruits_basket):\n",
        "  print(\"yes kiwi is in the basket\")\n",
        "else:\n",
        "  print(\"No kiwi is not in the basket\")"
      ],
      "metadata": {
        "id": "5ptVhKUX5ErB",
        "outputId": "78a4f00d-87c4-4a39-e91d-8cfc4123cd86",
        "colab": {
          "base_uri": "https://localhost:8080/"
        }
      },
      "execution_count": null,
      "outputs": [
        {
          "output_type": "stream",
          "name": "stdout",
          "text": [
            "yes kiwi is in the basket\n"
          ]
        }
      ]
    },
    {
      "cell_type": "code",
      "source": [
        "#16. Write a code to create a set with the elements 'a', 'b', 'c' and print it.\n",
        "\n",
        "my_set = {'a', 'b', 'c'}\n",
        "print(type(my_set))"
      ],
      "metadata": {
        "id": "ndTsjhVo7tps",
        "outputId": "dd3b25ee-d704-410e-823f-eb919d748b77",
        "colab": {
          "base_uri": "https://localhost:8080/"
        }
      },
      "execution_count": null,
      "outputs": [
        {
          "output_type": "stream",
          "name": "stdout",
          "text": [
            "<class 'set'>\n"
          ]
        }
      ]
    },
    {
      "cell_type": "code",
      "source": [
        "#17.Write a code to clear all elements from the set {1, 2, 3, 4, 5}.\n",
        "\n",
        "set1 = {1, 2, 3, 4, 5}\n",
        "set1.clear()\n",
        "print(set1)"
      ],
      "metadata": {
        "id": "lQZ9GRmO8PyJ",
        "outputId": "fadba79e-72e9-41d4-eb99-428add187346",
        "colab": {
          "base_uri": "https://localhost:8080/"
        }
      },
      "execution_count": null,
      "outputs": [
        {
          "output_type": "stream",
          "name": "stdout",
          "text": [
            "set()\n"
          ]
        }
      ]
    },
    {
      "cell_type": "code",
      "source": [
        "#18. Write a code to remove the element 4 from the set {1, 2, 3, 4}.\n",
        "\n",
        "set_1 = {1, 2, 3, 4}\n",
        "set_1.remove(4)\n",
        "print(set_1)"
      ],
      "metadata": {
        "id": "p8EdpXAz81kP",
        "outputId": "58cf9326-2d22-4ec6-d358-14f93c79c47e",
        "colab": {
          "base_uri": "https://localhost:8080/"
        }
      },
      "execution_count": null,
      "outputs": [
        {
          "output_type": "stream",
          "name": "stdout",
          "text": [
            "{1, 2, 3}\n"
          ]
        }
      ]
    },
    {
      "cell_type": "code",
      "source": [
        " #19.Write a code to find the union of two sets {1, 2, 3} and {3, 4, 5}.\n",
        "\n",
        "set_1 = {1, 2, 3}\n",
        "set_2 = {3, 4, 5}\n",
        "\n",
        "set_1.union(set_2)"
      ],
      "metadata": {
        "id": "r0B2gles-SQ3",
        "colab": {
          "base_uri": "https://localhost:8080/"
        },
        "outputId": "bbfe76c1-2e00-464f-b546-c176d6eb693b"
      },
      "execution_count": null,
      "outputs": [
        {
          "output_type": "execute_result",
          "data": {
            "text/plain": [
              "{1, 2, 3, 4, 5}"
            ]
          },
          "metadata": {},
          "execution_count": 5
        }
      ]
    },
    {
      "cell_type": "code",
      "source": [
        "# Another way to do this\n",
        "\n",
        "set_1 = {1, 2, 3}\n",
        "set_2 = {3, 4, 5}\n",
        "\n",
        "set_1|set_2\n"
      ],
      "metadata": {
        "colab": {
          "base_uri": "https://localhost:8080/"
        },
        "id": "O4JCVgRz3J1J",
        "outputId": "5f9ee0b7-44c0-4a49-8859-be93002187fa"
      },
      "execution_count": null,
      "outputs": [
        {
          "output_type": "execute_result",
          "data": {
            "text/plain": [
              "{1, 2, 3, 4, 5}"
            ]
          },
          "metadata": {},
          "execution_count": 6
        }
      ]
    },
    {
      "cell_type": "code",
      "source": [
        "#20. Write a code to find the intersection of two sets {1, 2, 3} and {2, 3, 4}.\n",
        "\n",
        "set1 = {1, 2, 3}\n",
        "set2 = {2, 3, 4}\n",
        "\n",
        "set1 & set2"
      ],
      "metadata": {
        "colab": {
          "base_uri": "https://localhost:8080/"
        },
        "id": "KgSgP6B13cR5",
        "outputId": "ca82b56a-c71e-46ac-cf80-28fc05047abd"
      },
      "execution_count": null,
      "outputs": [
        {
          "output_type": "execute_result",
          "data": {
            "text/plain": [
              "{2, 3}"
            ]
          },
          "metadata": {},
          "execution_count": 7
        }
      ]
    },
    {
      "cell_type": "code",
      "source": [
        "# Another way to do this\n",
        "\n",
        "set1 = {1, 2, 3}\n",
        "set2 = {2, 3, 4}\n",
        "\n",
        "set1.intersection(set2)\n",
        "\n"
      ],
      "metadata": {
        "colab": {
          "base_uri": "https://localhost:8080/"
        },
        "id": "oQYZxp7T5c6R",
        "outputId": "0152b975-ab60-433b-ffde-dfa3cf71e867"
      },
      "execution_count": null,
      "outputs": [
        {
          "output_type": "execute_result",
          "data": {
            "text/plain": [
              "{2, 3}"
            ]
          },
          "metadata": {},
          "execution_count": 8
        }
      ]
    },
    {
      "cell_type": "code",
      "source": [
        "#21.Write a code to create a dictionary with the keys \"name\", \"age\", and \"city\", and print it.\n",
        "\n",
        "my_dict = {\"name\":\"Bijay\",\"age\":\"22\",\"city\":\"kolkata\"}\n",
        "print(my_dict)"
      ],
      "metadata": {
        "colab": {
          "base_uri": "https://localhost:8080/"
        },
        "id": "Hceu1__j6ar5",
        "outputId": "97ed1f2e-be14-40a4-fbd0-eade2c0028f7"
      },
      "execution_count": null,
      "outputs": [
        {
          "output_type": "stream",
          "name": "stdout",
          "text": [
            "{'name': 'Bijay', 'age': '22', 'city': 'kolkata'}\n"
          ]
        }
      ]
    },
    {
      "cell_type": "code",
      "source": [
        "#22.Write a code to add a new key-value pair \"country\": \"USA\" to the dictionary {'name': 'John', 'age': 25}\n",
        "\n",
        "dict_1 = {'name': 'John', 'age': 25}\n",
        "dict_1[\"country\"] = \"USA\"\n",
        "print(dict_1)\n"
      ],
      "metadata": {
        "colab": {
          "base_uri": "https://localhost:8080/"
        },
        "id": "yEJVGxwk7o2J",
        "outputId": "728236f1-1566-4b0b-d8d2-70430155e8ec"
      },
      "execution_count": null,
      "outputs": [
        {
          "output_type": "stream",
          "name": "stdout",
          "text": [
            "{'name': 'John', 'age': 25, 'country': 'USA'}\n"
          ]
        }
      ]
    },
    {
      "cell_type": "code",
      "source": [
        "#23. Write a code to access the value associated with the key \"name\" in the dictionary\n",
        "\n",
        "dict1 = {'name': 'Alice', 'age': 30}\n",
        "value_dict1 = dict1[\"name\"]\n",
        "print(value_dict1)"
      ],
      "metadata": {
        "colab": {
          "base_uri": "https://localhost:8080/"
        },
        "id": "SZVCTZkk9KnI",
        "outputId": "be37665d-57ca-4c10-bb0c-c5b9d92b6e1a"
      },
      "execution_count": null,
      "outputs": [
        {
          "output_type": "stream",
          "name": "stdout",
          "text": [
            "Alice\n"
          ]
        }
      ]
    },
    {
      "cell_type": "code",
      "source": [
        "#24.Write a code to remove the key \"age\" from the dictionary {'name': 'Bob', 'age': 22, 'city': 'New York'}.\n",
        "\n",
        "dict2 = {'name': 'Bob', 'age': 22, 'city': 'New York'}\n",
        "del dict2[\"age\"]\n",
        "print(dict2)\n",
        "\n"
      ],
      "metadata": {
        "colab": {
          "base_uri": "https://localhost:8080/"
        },
        "id": "vnNYBnYm_52H",
        "outputId": "5370c07d-fee5-400d-8cea-f84fb5d9e6f4"
      },
      "execution_count": null,
      "outputs": [
        {
          "output_type": "stream",
          "name": "stdout",
          "text": [
            "{'name': 'Bob', 'city': 'New York'}\n"
          ]
        }
      ]
    },
    {
      "cell_type": "code",
      "source": [
        "#another way to do that\n",
        "\n",
        "dict2 = {'name': 'Bob', 'age': 22, 'city': 'New York'}\n",
        "dict2.pop(\"age\",None)\n",
        "print(dict2)"
      ],
      "metadata": {
        "colab": {
          "base_uri": "https://localhost:8080/"
        },
        "id": "ye33XWV8CEst",
        "outputId": "ab1f125f-0b5b-4f5d-f399-13f035d3d146"
      },
      "execution_count": null,
      "outputs": [
        {
          "output_type": "stream",
          "name": "stdout",
          "text": [
            "{'name': 'Bob', 'city': 'New York'}\n"
          ]
        }
      ]
    },
    {
      "cell_type": "code",
      "source": [
        "#25. Write a code to check if the key \"city\" exists in the dictionary {'name': 'Alice', 'city': 'Paris'}.\n",
        "\n",
        "person = {'name': 'Alice', 'city': 'Paris'}\n",
        "\n",
        "if 'city' in person:\n",
        "    print(\"Key 'city' exists in the dictionary.\")\n",
        "else:\n",
        "    print(\"Key 'city' does not exist in the dictionary.\")\n",
        "\n"
      ],
      "metadata": {
        "colab": {
          "base_uri": "https://localhost:8080/"
        },
        "id": "BF93X7-9BfO3",
        "outputId": "5ede793c-d9ee-4aa8-92fa-7e92b97ca3ff"
      },
      "execution_count": null,
      "outputs": [
        {
          "output_type": "stream",
          "name": "stdout",
          "text": [
            "Key 'city' exists in the dictionary.\n"
          ]
        }
      ]
    },
    {
      "cell_type": "code",
      "source": [
        "#26. Write a code to create a list, a tuple, and a dictionary, and print them all.\n",
        "\n",
        "# Create a list, a tuple, and a dictionary\n",
        "my_list = [1, 2, 3, 4, 5]\n",
        "my_tuple = ('apple', 'banana', 'mango')\n",
        "my_dict = {'name': 'John', 'age': 25}\n",
        "\n",
        "# Print all the data structures\n",
        "print(\"List:\", my_list)\n",
        "print(\"Tuple:\", my_tuple)\n",
        "print(\"Dictionary:\", my_dict)\n"
      ],
      "metadata": {
        "colab": {
          "base_uri": "https://localhost:8080/"
        },
        "id": "0Z5DqoNqDOkP",
        "outputId": "270c6397-238b-4755-8242-beb4177d9736"
      },
      "execution_count": null,
      "outputs": [
        {
          "output_type": "stream",
          "name": "stdout",
          "text": [
            "List: [1, 2, 3, 4, 5]\n",
            "Tuple: ('apple', 'banana', 'mango')\n",
            "Dictionary: {'name': 'John', 'age': 25}\n"
          ]
        }
      ]
    },
    {
      "cell_type": "code",
      "source": [
        "#27.. Write a code to create a list of 5 random numbers between 1 and 100, sort it in ascending order, and print the result.(replaced)\n",
        "\n",
        "list10 = [7,76,99,45,22]\n",
        "list10.sort()\n",
        "print(\"sorted list: \", list10)"
      ],
      "metadata": {
        "colab": {
          "base_uri": "https://localhost:8080/"
        },
        "id": "oRKWLZPOD5tn",
        "outputId": "d60891e2-822f-4dcb-9e34-7637e182baaa"
      },
      "execution_count": null,
      "outputs": [
        {
          "output_type": "stream",
          "name": "stdout",
          "text": [
            "sorted list:  [7, 22, 45, 76, 99]\n"
          ]
        }
      ]
    },
    {
      "cell_type": "code",
      "source": [
        "#28.. Write a code to create a list with strings and print the element at the third index.\n",
        "\n",
        "list11 = [\"apple\", \"mango\", \"banana\", \"guava\",\"cherry\"]\n",
        "print(\"element at third index: \",list11[3])"
      ],
      "metadata": {
        "colab": {
          "base_uri": "https://localhost:8080/"
        },
        "id": "R7xcFsE8F4hW",
        "outputId": "bfd10e28-79f3-4966-a4a5-11660bc8b37a"
      },
      "execution_count": null,
      "outputs": [
        {
          "output_type": "stream",
          "name": "stdout",
          "text": [
            "element at third index:  guava\n"
          ]
        }
      ]
    },
    {
      "cell_type": "code",
      "source": [
        "#29. Write a code to combine two dictionaries into one and print the result.\n",
        "\n",
        "# Combine two dictionaries into one and print the result\n",
        "dict1 = {'name': 'Alice', 'age': 30}\n",
        "dict2 = {'city': 'Paris', 'country': 'France'}\n",
        "\n",
        "combined_dict = {**dict1, **dict2}\n",
        "print(\"Combined Dictionary:\", combined_dict)\n"
      ],
      "metadata": {
        "colab": {
          "base_uri": "https://localhost:8080/"
        },
        "id": "JNRp1y-FHoY9",
        "outputId": "677b05ba-8d8b-446d-f297-a121416180fe"
      },
      "execution_count": null,
      "outputs": [
        {
          "output_type": "stream",
          "name": "stdout",
          "text": [
            "Combined Dictionary: {'name': 'Alice', 'age': 30, 'city': 'Paris', 'country': 'France'}\n"
          ]
        }
      ]
    },
    {
      "cell_type": "code",
      "source": [
        "#another way to do that:\n",
        "dict1 = {'name': 'Alice', 'age': 30}\n",
        "dict2 = {'city': 'Paris', 'country': 'France'}\n",
        "\n",
        "print(\"Combined Dictionary: \",dict1|dict2)\n",
        "\n"
      ],
      "metadata": {
        "colab": {
          "base_uri": "https://localhost:8080/"
        },
        "id": "MKdOoeZOIf0c",
        "outputId": "9958ed03-8565-443d-ef15-46e7a75cdda7"
      },
      "execution_count": null,
      "outputs": [
        {
          "output_type": "stream",
          "name": "stdout",
          "text": [
            "combined Dictionary:  {'name': 'Alice', 'age': 30, 'city': 'Paris', 'country': 'France'}\n"
          ]
        }
      ]
    },
    {
      "cell_type": "code",
      "source": [
        "#30. Write a code to convert a list of strings into a set.\n",
        "\n",
        "Fruits_list = [\"apple\", \"banana\", \"mango\", \"apple\", \"guava\", \"mango\", \"cherry\",\"cherry\"]\n",
        "Fruits_set =set(Fruits_list)\n",
        "print(Fruits_set)"
      ],
      "metadata": {
        "colab": {
          "base_uri": "https://localhost:8080/"
        },
        "id": "3X5sOxHuJQdc",
        "outputId": "76c78a75-327c-4859-90ef-54f0475c20e8"
      },
      "execution_count": null,
      "outputs": [
        {
          "output_type": "stream",
          "name": "stdout",
          "text": [
            "{'banana', 'mango', 'apple', 'guava', 'cherry'}\n"
          ]
        }
      ]
    }
  ]
}